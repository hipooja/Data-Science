{
 "cells": [
  {
   "cell_type": "code",
   "execution_count": 3,
   "id": "f0aad1cd-b02d-45b2-b9f3-3a682a763687",
   "metadata": {},
   "outputs": [],
   "source": [
    "def coin_filp_probability():\n",
    "    # Calculate the probability of heads in a fair coin flip\n",
    "    heads_probability = 1/2\n",
    "    return heads_probability\n",
    "\n",
    "def rolling_dice_probability(number):\n",
    "    # Calculates the probability of rolling a specific number on a fair die\n",
    "    if number not in range(1,7):\n",
    "        raise ValueError(\"Number must be between 1 and 6\")\n",
    "    probability = 1/6\n",
    "    return probability"
   ]
  },
  {
   "cell_type": "code",
   "execution_count": 5,
   "id": "bdc81d14-fa8a-45bd-99ad-5c449fbcc3fa",
   "metadata": {},
   "outputs": [
    {
     "name": "stdout",
     "output_type": "stream",
     "text": [
      "Probability of heads in a coin flip: 0.5\n",
      "Probability of rolling a 4 on a die: 0.16666666666666666\n"
     ]
    }
   ],
   "source": [
    "coin_filp_result = coin_filp_probability()\n",
    "dice_roll_result = rolling_dice_probability(6)\n",
    "\n",
    "print(\"Probability of heads in a coin flip:\", coin_filp_result)\n",
    "print(\"Probability of rolling a 4 on a die:\", dice_roll_result)"
   ]
  },
  {
   "cell_type": "markdown",
   "id": "c3d6dde1-6813-43b9-b1ff-99d751d9a57d",
   "metadata": {},
   "source": [
    "#### Experimental Probability"
   ]
  },
  {
   "cell_type": "code",
   "execution_count": 8,
   "id": "3f6b4548-aaff-4f43-ad79-cfe168d2912b",
   "metadata": {},
   "outputs": [],
   "source": [
    "import random\n",
    "import pandas as pd"
   ]
  },
  {
   "cell_type": "code",
   "execution_count": 14,
   "id": "4ed98f07-f039-436b-a96d-fb42d1e805bc",
   "metadata": {},
   "outputs": [],
   "source": [
    "def simulate_coin_filp(num_filps):\n",
    "    # Simulates coin flips and returns a list of results (heads or tails)\n",
    "    results = []\n",
    "    for _ in range(num_filps):\n",
    "        flip = random.choice([\"heads\", \"tails\"])\n",
    "        results.append(flip)\n",
    "    return results"
   ]
  },
  {
   "cell_type": "code",
   "execution_count": 16,
   "id": "513b4366-2369-4f04-b361-cf01eb444c7c",
   "metadata": {},
   "outputs": [
    {
     "data": {
      "text/plain": [
       "tails    53\n",
       "heads    47\n",
       "Name: count, dtype: int64"
      ]
     },
     "execution_count": 16,
     "metadata": {},
     "output_type": "execute_result"
    }
   ],
   "source": [
    "pd.Series(simulate_coin_filp(100)).value_counts()"
   ]
  },
  {
   "cell_type": "code",
   "execution_count": 18,
   "id": "d4143a4f-b11a-4e15-8246-987c4d9754c8",
   "metadata": {},
   "outputs": [],
   "source": [
    "def calculate_experimental_probability(results, event):\n",
    "    # Calculate the experimental probability of a specific event (heads or tails)\n",
    "    \n",
    "    event_count = results.count(event)\n",
    "    total_flips =  len(results)\n",
    "    probability = event_count / total_flips\n",
    "    return probability"
   ]
  },
  {
   "cell_type": "code",
   "execution_count": 24,
   "id": "43015656-1345-4f55-8f92-fc6e3552816c",
   "metadata": {},
   "outputs": [
    {
     "name": "stdout",
     "output_type": "stream",
     "text": [
      "Heads:  0.511\n",
      "Tails:  0.489\n"
     ]
    }
   ],
   "source": [
    "results = simulate_coin_filp(1000)\n",
    "print('Heads: ', calculate_experimental_probability(results, 'heads'))\n",
    "print('Tails: ', calculate_experimental_probability(results, 'tails'))"
   ]
  },
  {
   "cell_type": "code",
   "execution_count": null,
   "id": "a6bcb98f-d88e-4da0-b347-0a747b38f57b",
   "metadata": {},
   "outputs": [],
   "source": []
  }
 ],
 "metadata": {
  "kernelspec": {
   "display_name": "Python 3 (ipykernel)",
   "language": "python",
   "name": "python3"
  },
  "language_info": {
   "codemirror_mode": {
    "name": "ipython",
    "version": 3
   },
   "file_extension": ".py",
   "mimetype": "text/x-python",
   "name": "python",
   "nbconvert_exporter": "python",
   "pygments_lexer": "ipython3",
   "version": "3.12.4"
  }
 },
 "nbformat": 4,
 "nbformat_minor": 5
}
