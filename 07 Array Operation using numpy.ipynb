{
 "cells": [
  {
   "cell_type": "code",
   "execution_count": 31,
   "id": "016203e3-17be-4280-8983-57f8de3035e2",
   "metadata": {},
   "outputs": [],
   "source": [
    "import numpy as np"
   ]
  },
  {
   "cell_type": "code",
   "execution_count": 33,
   "id": "c7291e0f-5e08-47b2-8ee5-6e3c40564f47",
   "metadata": {},
   "outputs": [],
   "source": [
    "num=np.array([56, 33, 12, 78, 52, 68, 25])"
   ]
  },
  {
   "cell_type": "code",
   "execution_count": 19,
   "id": "ca62d100-3068-4cd5-985f-8d34a7aac25a",
   "metadata": {},
   "outputs": [
    {
     "ename": "NameError",
     "evalue": "name 'num' is not defined",
     "output_type": "error",
     "traceback": [
      "\u001b[1;31m---------------------------------------------------------------------------\u001b[0m",
      "\u001b[1;31mNameError\u001b[0m                                 Traceback (most recent call last)",
      "Cell \u001b[1;32mIn[19], line 1\u001b[0m\n\u001b[1;32m----> 1\u001b[0m \u001b[38;5;28mtype\u001b[39m[num]\n",
      "\u001b[1;31mNameError\u001b[0m: name 'num' is not defined"
     ]
    }
   ],
   "source": [
    "type[num]"
   ]
  },
  {
   "cell_type": "code",
   "execution_count": 21,
   "id": "512647db-4c84-462d-aa95-38a763c1d98d",
   "metadata": {},
   "outputs": [
    {
     "data": {
      "text/plain": [
       "numpy.ndarray"
      ]
     },
     "execution_count": 21,
     "metadata": {},
     "output_type": "execute_result"
    }
   ],
   "source": [
    "np.ndarray"
   ]
  },
  {
   "cell_type": "code",
   "execution_count": null,
   "id": "221ca88a-033d-4efc-b884-f63a9e7572de",
   "metadata": {},
   "outputs": [],
   "source": [
    "print(num)"
   ]
  },
  {
   "cell_type": "code",
   "execution_count": null,
   "id": "ee006dd0-7165-4b32-bdc6-58e1939db8b5",
   "metadata": {},
   "outputs": [],
   "source": []
  },
  {
   "cell_type": "code",
   "execution_count": null,
   "id": "efe4374a-d0a1-4612-9b98-32f5109af61c",
   "metadata": {},
   "outputs": [],
   "source": [
    "num.ndim"
   ]
  },
  {
   "cell_type": "code",
   "execution_count": null,
   "id": "e3ccb677-bd32-45d0-9cad-3d0324b04b83",
   "metadata": {},
   "outputs": [],
   "source": [
    "num.min()"
   ]
  },
  {
   "cell_type": "code",
   "execution_count": null,
   "id": "dd465d8c-d060-4d0f-81ed-3f54b8bf852b",
   "metadata": {},
   "outputs": [],
   "source": [
    "num.max()"
   ]
  },
  {
   "cell_type": "code",
   "execution_count": null,
   "id": "f13d2510-0b48-4cf0-abe5-9b2451e551aa",
   "metadata": {},
   "outputs": [],
   "source": [
    "num."
   ]
  },
  {
   "cell_type": "code",
   "execution_count": 5,
   "id": "f0129919-1d9e-4823-ac9b-d526b7e04665",
   "metadata": {},
   "outputs": [],
   "source": [
    "######"
   ]
  },
  {
   "cell_type": "code",
   "execution_count": null,
   "id": "62089b98-4e3e-4524-832f-8d43a14ad1a4",
   "metadata": {},
   "outputs": [],
   "source": []
  },
  {
   "cell_type": "code",
   "execution_count": null,
   "id": "9443c3f9-4ddf-4d34-a619-039a7f184c35",
   "metadata": {},
   "outputs": [],
   "source": []
  },
  {
   "cell_type": "code",
   "execution_count": null,
   "id": "9afbc4b6-c458-4c51-aae3-02b4fc3b5eff",
   "metadata": {},
   "outputs": [],
   "source": []
  }
 ],
 "metadata": {
  "kernelspec": {
   "display_name": "Python 3 (ipykernel)",
   "language": "python",
   "name": "python3"
  },
  "language_info": {
   "codemirror_mode": {
    "name": "ipython",
    "version": 3
   },
   "file_extension": ".py",
   "mimetype": "text/x-python",
   "name": "python",
   "nbconvert_exporter": "python",
   "pygments_lexer": "ipython3",
   "version": "3.12.4"
  }
 },
 "nbformat": 4,
 "nbformat_minor": 5
}
