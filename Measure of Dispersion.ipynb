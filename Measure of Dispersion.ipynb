{
 "cells": [
  {
   "cell_type": "code",
   "execution_count": 1,
   "id": "a19e4d78-4af0-47e9-9db1-e81188a0a026",
   "metadata": {},
   "outputs": [],
   "source": [
    "import numpy as np\n",
    "import pandas as pd"
   ]
  },
  {
   "cell_type": "markdown",
   "id": "e4cf786e-fc6f-45da-9748-f13ba95134f6",
   "metadata": {},
   "source": [
    "#### Mean absolute deviation"
   ]
  },
  {
   "cell_type": "code",
   "execution_count": 23,
   "id": "8902cf7c-3895-4ea0-bdee-36f20541de2c",
   "metadata": {},
   "outputs": [],
   "source": [
    "num = np.array([67, 87, 45, 26, 54, 17, 54, 17, 54, 68, 93, 47, 98])"
   ]
  },
  {
   "cell_type": "code",
   "execution_count": 25,
   "id": "a5b7049e-6fa1-4001-922d-8f24aa344685",
   "metadata": {},
   "outputs": [
    {
     "data": {
      "text/plain": [
       "20.5207100591716"
      ]
     },
     "execution_count": 25,
     "metadata": {},
     "output_type": "execute_result"
    }
   ],
   "source": [
    "np.mean(abs(num - num.mean()))"
   ]
  },
  {
   "cell_type": "code",
   "execution_count": 27,
   "id": "2c9ca29f-7246-4915-8a9a-c92ee3742966",
   "metadata": {},
   "outputs": [
    {
     "data": {
      "text/plain": [
       "654.9940828402367"
      ]
     },
     "execution_count": 27,
     "metadata": {},
     "output_type": "execute_result"
    }
   ],
   "source": [
    "np.mean((num - num.mean())**2)"
   ]
  },
  {
   "cell_type": "code",
   "execution_count": 29,
   "id": "1a59b541-5c10-4d79-8aaf-159e916d890b",
   "metadata": {},
   "outputs": [
    {
     "data": {
      "text/plain": [
       "654.9940828402367"
      ]
     },
     "execution_count": 29,
     "metadata": {},
     "output_type": "execute_result"
    }
   ],
   "source": [
    "np.var(num)"
   ]
  },
  {
   "cell_type": "markdown",
   "id": "6918e2b7-7ec3-41c1-97a6-4a201f5d468d",
   "metadata": {},
   "source": [
    "#### Standard Deviation"
   ]
  },
  {
   "cell_type": "code",
   "execution_count": 32,
   "id": "5a6bf93a-6938-41ed-9cf1-dca7606e4a7a",
   "metadata": {},
   "outputs": [
    {
     "data": {
      "text/plain": [
       "25.592852182596545"
      ]
     },
     "execution_count": 32,
     "metadata": {},
     "output_type": "execute_result"
    }
   ],
   "source": [
    "np.sqrt(np.mean((num - num.mean())**2))"
   ]
  },
  {
   "cell_type": "code",
   "execution_count": 34,
   "id": "fba6fab8-26a5-485d-b028-3f0051d022c1",
   "metadata": {},
   "outputs": [
    {
     "data": {
      "text/plain": [
       "25.592852182596545"
      ]
     },
     "execution_count": 34,
     "metadata": {},
     "output_type": "execute_result"
    }
   ],
   "source": [
    "num.std()"
   ]
  },
  {
   "cell_type": "code",
   "execution_count": null,
   "id": "a7a2c944-bc0b-44a7-8642-17aba72087a4",
   "metadata": {},
   "outputs": [],
   "source": []
  }
 ],
 "metadata": {
  "kernelspec": {
   "display_name": "Python 3 (ipykernel)",
   "language": "python",
   "name": "python3"
  },
  "language_info": {
   "codemirror_mode": {
    "name": "ipython",
    "version": 3
   },
   "file_extension": ".py",
   "mimetype": "text/x-python",
   "name": "python",
   "nbconvert_exporter": "python",
   "pygments_lexer": "ipython3",
   "version": "3.12.4"
  }
 },
 "nbformat": 4,
 "nbformat_minor": 5
}
