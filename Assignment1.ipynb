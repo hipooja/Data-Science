{
 "cells": [
  {
   "cell_type": "code",
   "execution_count": 11,
   "id": "124f2613-7b80-48f8-885c-31c27c087bd1",
   "metadata": {},
   "outputs": [
    {
     "name": "stdin",
     "output_type": "stream",
     "text": [
      "Enter tempreture in celsius:  36.7\n"
     ]
    },
    {
     "name": "stdout",
     "output_type": "stream",
     "text": [
      "36.7 celsius is equal to 98.06 Fahrenheit\n"
     ]
    }
   ],
   "source": [
    "celsius = float(input(\"Enter tempreture in celsius: \"))\n",
    "\n",
    "Fahrenheit = (celsius * 9/5) + 32\n",
    "\n",
    "print(f\"{celsius} celsius is equal to {Fahrenheit} Fahrenheit\")"
   ]
  },
  {
   "cell_type": "code",
   "execution_count": 18,
   "id": "d763d3e3-0b1a-4c57-9098-69a915b1ab51",
   "metadata": {},
   "outputs": [
    {
     "name": "stdin",
     "output_type": "stream",
     "text": [
      "Enter radius of circle:  5\n"
     ]
    },
    {
     "name": "stdout",
     "output_type": "stream",
     "text": [
      "Perimeter= 31.400000000000002\n",
      "Area= 78.5\n"
     ]
    }
   ],
   "source": [
    "radius = float(input(\"Enter radius of circle: \"))\n",
    "\n",
    "perimeter = 2*3.14*radius\n",
    "area = 3.14*radius*radius\n",
    "\n",
    "print('Perimeter=', perimeter)\n",
    "print('Area=' , area)"
   ]
  },
  {
   "cell_type": "code",
   "execution_count": 22,
   "id": "5f3e93b9-6220-45fe-b79a-a0351cf2c376",
   "metadata": {},
   "outputs": [
    {
     "name": "stdin",
     "output_type": "stream",
     "text": [
      "Enter the amount:  5000\n",
      "Enter the percentage of interest (%):  4\n"
     ]
    },
    {
     "name": "stdout",
     "output_type": "stream",
     "text": [
      "Total payable amount 5200.0\n"
     ]
    }
   ],
   "source": [
    "amount = input(\"Enter the amount: \")\n",
    "interest_percentage = float(input(\"Enter the percentage of interest (%): \"))\n",
    "\n",
    "interest= (float(amount) * interest_percentage)/100;\n",
    "payable_amount = float(amount) + interest;\n",
    "\n",
    "print('Total payable amount', payable_amount) \n"
   ]
  },
  {
   "cell_type": "code",
   "execution_count": 24,
   "id": "68e263c7-0a01-4cd2-a1d4-6d2375c9a00f",
   "metadata": {},
   "outputs": [
    {
     "name": "stdin",
     "output_type": "stream",
     "text": [
      "Enter the distance in meters:  5\n"
     ]
    },
    {
     "name": "stdout",
     "output_type": "stream",
     "text": [
      "centimeters 500.0\n",
      "inches 196.85\n",
      "yards 5.470000000000001\n"
     ]
    }
   ],
   "source": [
    "meters = float(input(\"Enter the distance in meters: \"))\n",
    "\n",
    "centimeters = meters * 100\n",
    "inches = meters * 39.37\n",
    "yards = meters * 1.094\n",
    "\n",
    "print('centimeters', centimeters)\n",
    "print('inches', inches)\n",
    "print('yards', yards)\n"
   ]
  },
  {
   "cell_type": "code",
   "execution_count": 31,
   "id": "e319cd04-71d1-4b24-8b3d-991a691dbb51",
   "metadata": {},
   "outputs": [
    {
     "name": "stdin",
     "output_type": "stream",
     "text": [
      "Enter the product cost:  50\n",
      "Enter the product selling cost:  44\n"
     ]
    },
    {
     "name": "stdout",
     "output_type": "stream",
     "text": [
      "You are in loss\n"
     ]
    }
   ],
   "source": [
    "actual_price = float(input(\"Enter the product cost: \"))\n",
    "selling_price = float(input(\"Enter the product selling cost: \"))\n",
    "\n",
    "if actual_price < selling_price:\n",
    "    print('You are in profit')\n",
    "else :\n",
    "     print('You are in loss')"
   ]
  },
  {
   "cell_type": "code",
   "execution_count": 37,
   "id": "8e830c06-0a9a-4c53-a133-6c3357a00a62",
   "metadata": {},
   "outputs": [
    {
     "name": "stdin",
     "output_type": "stream",
     "text": [
      "Enter basic salary:  24000\n"
     ]
    },
    {
     "name": "stdout",
     "output_type": "stream",
     "text": [
      "46800.0\n"
     ]
    }
   ],
   "source": [
    "basic_salary = float(input(\"Enter basic salary: \"))\n",
    "\n",
    "da = (basic_salary*75)/100\n",
    "hra = (basic_salary*20)/100\n",
    "\n",
    "if basic_salary < 10000:\n",
    "   salary = da + basic_salary\n",
    "if basic_salary >= 10000 and basic_salary < 20000:\n",
    "   salary = da + basic_salary + (hra/2)\n",
    "if basic_salary >= 20000:\n",
    "   salary = da + basic_salary + hra\n",
    "\n",
    "print(salary)"
   ]
  },
  {
   "cell_type": "code",
   "execution_count": 47,
   "id": "41e42e43-e15c-461e-bdae-2c2fd1b39539",
   "metadata": {},
   "outputs": [
    {
     "name": "stdin",
     "output_type": "stream",
     "text": [
      "Enter the number:  5\n"
     ]
    },
    {
     "name": "stdout",
     "output_type": "stream",
     "text": [
      "Factorial for 5 = 5x4x3x2x1 = 120\n"
     ]
    }
   ],
   "source": [
    "num = int(input(\"Enter the number: \"))\n",
    "number = num\n",
    "fact_str =\"\"\n",
    "fact=1\n",
    "while num>=1:\n",
    "    fact = fact * num\n",
    "    if fact_str==\"\" :\n",
    "        fact_str = str(num)\n",
    "    else:\n",
    "        fact_str += \"x\"+ str(num)\n",
    "        \n",
    "    num -=1\n",
    "\n",
    "print(f\"Factorial for {number} = {fact_str} = {fact}\")\n",
    "\n"
   ]
  },
  {
   "cell_type": "code",
   "execution_count": 60,
   "id": "4730b4e0-ea02-4c6c-b907-57c543b0412a",
   "metadata": {},
   "outputs": [
    {
     "name": "stdin",
     "output_type": "stream",
     "text": [
      "Enter the number 1:  5\n",
      "Enter the number 2:  1\n"
     ]
    },
    {
     "name": "stdout",
     "output_type": "stream",
     "text": [
      "Addition =  15\n"
     ]
    }
   ],
   "source": [
    "num1 = int(input(\"Enter the number 1: \"))\n",
    "num2 = int(input(\"Enter the number 2: \"))\n",
    "add=0\n",
    "\n",
    "if num1 > num2:\n",
    "    while num1 >= num2:\n",
    "        if add == 0 :\n",
    "           add = num1 \n",
    "        else:\n",
    "           add += num1\n",
    "            \n",
    "        num1 -= 1\n",
    "else:\n",
    "     while num2 >= num1:\n",
    "        if add == 0:\n",
    "           add = num2 \n",
    "        else:\n",
    "           add += num2\n",
    "            \n",
    "        num2 -= 1    \n",
    "\n",
    "\n",
    "print(\"Addition = \", add)\n",
    "    \n",
    "    "
   ]
  },
  {
   "cell_type": "code",
   "execution_count": 62,
   "id": "fa67708b-5eab-46d2-93ef-b75f01fc0337",
   "metadata": {},
   "outputs": [
    {
     "name": "stdout",
     "output_type": "stream",
     "text": [
      "List of even numbers:  [56, 2, 48, 32, 56, 68]\n",
      "List of odd numbers:  [35, 41, 43, 71, 55]\n"
     ]
    }
   ],
   "source": [
    "\n",
    "num = (56,2,35,41,43,48,32,56,71,55,68)\n",
    "\n",
    "even_numbers = [n for n in num if n % 2 == 0]\n",
    "\n",
    "odd_numbers = [n for n in num if n % 2 != 0]\n",
    "\n",
    "print(\"List of even numbers: \", even_numbers)\n",
    "print(\"List of odd numbers: \", odd_numbers)\n",
    "\n"
   ]
  },
  {
   "cell_type": "code",
   "execution_count": 65,
   "id": "4119327a-576f-48ff-b8bf-5180d89df729",
   "metadata": {},
   "outputs": [
    {
     "name": "stdin",
     "output_type": "stream",
     "text": [
      "Enter a number:  67890\n"
     ]
    },
    {
     "name": "stdout",
     "output_type": "stream",
     "text": [
      "EVEN NUMBER\n"
     ]
    }
   ],
   "source": [
    "def check_odd_even(n):\n",
    "    if n%2==0:\n",
    "        print(\"EVEN NUMBER\")\n",
    "    else:\n",
    "        print (\"ODD NUMBER\")\n",
    "   \n",
    "number = int(input(\"Enter a number: \"))\n",
    "check_odd_even(number)"
   ]
  },
  {
   "cell_type": "code",
   "execution_count": 78,
   "id": "757d9bf5-ceed-4435-9d60-a72e3486619e",
   "metadata": {},
   "outputs": [
    {
     "name": "stdin",
     "output_type": "stream",
     "text": [
      "Enter a number:  5\n"
     ]
    },
    {
     "name": "stdout",
     "output_type": "stream",
     "text": [
      "Square root:  2.23606797749979\n",
      "Sin:  -0.9589242746631385\n",
      "Tan:  -3.380515006246586\n",
      "Log:  1.6094379124341003\n",
      "Factorial:  120\n"
     ]
    }
   ],
   "source": [
    "import math as m\n",
    "\n",
    "no = int(input(\"Enter a number: \"))\n",
    "\n",
    "print(\"Square root: \", m.sqrt(no))\n",
    "print(\"Sin: \", m.sin(no))\n",
    "print(\"Tan: \", m.tan(no))\n",
    "print(\"Log: \", m.log(no))\n",
    "print(\"Factorial: \", m.factorial(no))"
   ]
  },
  {
   "cell_type": "code",
   "execution_count": 80,
   "id": "3b03c056-d072-4a66-9c8c-93a94557857b",
   "metadata": {},
   "outputs": [
    {
     "name": "stdout",
     "output_type": "stream",
     "text": [
      "Area of rectangle:  50\n"
     ]
    }
   ],
   "source": [
    "class Rectangle:\n",
    "    #constructor\n",
    "    def __init__(self, n, a):\n",
    "        self.length = n \n",
    "        self.width = a  \n",
    "        \n",
    "    def calculate(self):   # function / behaviour\n",
    "        return self.length * self.width\n",
    "\n",
    "rect = Rectangle(10, 5)\n",
    "\n",
    "area = rect.calculate()\n",
    "\n",
    "print('Area of rectangle: ', area)"
   ]
  },
  {
   "cell_type": "code",
   "execution_count": null,
   "id": "16a8c9b0-b5dd-4494-9e82-e422b622cdce",
   "metadata": {},
   "outputs": [],
   "source": []
  }
 ],
 "metadata": {
  "kernelspec": {
   "display_name": "Python 3 (ipykernel)",
   "language": "python",
   "name": "python3"
  },
  "language_info": {
   "codemirror_mode": {
    "name": "ipython",
    "version": 3
   },
   "file_extension": ".py",
   "mimetype": "text/x-python",
   "name": "python",
   "nbconvert_exporter": "python",
   "pygments_lexer": "ipython3",
   "version": "3.9.13"
  }
 },
 "nbformat": 4,
 "nbformat_minor": 5
}
