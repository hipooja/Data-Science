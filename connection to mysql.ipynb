{
 "cells": [
  {
   "cell_type": "code",
   "execution_count": 1,
   "id": "4b0623ca-ce39-44f9-a257-40cf7d6f617c",
   "metadata": {},
   "outputs": [
    {
     "name": "stdout",
     "output_type": "stream",
     "text": [
      "Collecting mysql.connector\n",
      "  Downloading mysql-connector-2.2.9.tar.gz (11.9 MB)\n",
      "     ---------------------------------------- 0.0/11.9 MB ? eta -:--:--\n",
      "     ---------------------------------------- 0.0/11.9 MB ? eta -:--:--\n",
      "     --------------------------------------- 0.0/11.9 MB 393.8 kB/s eta 0:00:30\n",
      "     ---------------------------------------- 0.1/11.9 MB 1.0 MB/s eta 0:00:12\n",
      "     - -------------------------------------- 0.4/11.9 MB 2.4 MB/s eta 0:00:05\n",
      "     -- ------------------------------------- 0.8/11.9 MB 4.1 MB/s eta 0:00:03\n",
      "     ------- -------------------------------- 2.3/11.9 MB 9.8 MB/s eta 0:00:01\n",
      "     --------------- ------------------------ 4.7/11.9 MB 16.7 MB/s eta 0:00:01\n",
      "     -------------------------- ------------- 8.0/11.9 MB 24.2 MB/s eta 0:00:01\n",
      "     --------------------------------------  11.8/11.9 MB 72.6 MB/s eta 0:00:01\n",
      "     --------------------------------------- 11.9/11.9 MB 65.5 MB/s eta 0:00:00\n",
      "  Preparing metadata (setup.py): started\n",
      "  Preparing metadata (setup.py): finished with status 'done'\n",
      "Building wheels for collected packages: mysql.connector\n",
      "  Building wheel for mysql.connector (setup.py): started\n",
      "  Building wheel for mysql.connector (setup.py): finished with status 'done'\n",
      "  Created wheel for mysql.connector: filename=mysql_connector-2.2.9-cp312-cp312-win_amd64.whl size=247958 sha256=c9ab083483433501e4ff91cb40422c4cda6cc79a90a270be66a6446c1009e601\n",
      "  Stored in directory: c:\\users\\rajesh\\appdata\\local\\pip\\cache\\wheels\\03\\17\\fa\\d7604c72dd3dd6d3eb3d249abf36cc532c9a9b4354b8f1bc4f\n",
      "Successfully built mysql.connector\n",
      "Installing collected packages: mysql.connector\n",
      "Successfully installed mysql.connector-2.2.9\n",
      "Note: you may need to restart the kernel to use updated packages.\n"
     ]
    }
   ],
   "source": [
    "pip install mysql.connector"
   ]
  },
  {
   "cell_type": "code",
   "execution_count": 1,
   "id": "5eecb692-43fd-4ac9-b2a5-efb540e6585a",
   "metadata": {},
   "outputs": [],
   "source": [
    "import mysql.connector as sql\n",
    "import pandas as pd\n",
    "\n",
    "db_connection = sql.connect(host='localhost', database='mydb', user='root', password='')\n",
    "\n",
    "db_cursor = db_connection.cursor()\n",
    "\n",
    "db_cursor.execute('Select * from student')\n",
    "\n",
    "table_rows = db_cursor.fetchall()\n",
    "df = pd.DataFrame(table_rows)"
   ]
  },
  {
   "cell_type": "code",
   "execution_count": 3,
   "id": "54cc4165-36cd-41fe-a18d-a0df760b268e",
   "metadata": {},
   "outputs": [
    {
     "name": "stdout",
     "output_type": "stream",
     "text": [
      "     0        1      2   3\n",
      "0    1    Krupa  39.50  BE\n",
      "1    2    Aarsh  98.49  TE\n",
      "2    4   Mandar  88.00  BE\n",
      "3    5    Pooja  79.49  SE\n",
      "4    6    Madan  85.09  TE\n",
      "5    7  Pushkar  89.50  TE\n",
      "6    8   Agnelo  92.60  BE\n",
      "7    9     Arna  83.40  SE\n",
      "8   10   Janhvi  72.00  TE\n",
      "9   12      abc  55.66  TE\n",
      "10  25   Prisha  95.49  SE\n"
     ]
    }
   ],
   "source": [
    "print(df)"
   ]
  },
  {
   "cell_type": "code",
   "execution_count": null,
   "id": "f7ffd6ec-0790-46a2-b528-12c26d72d540",
   "metadata": {},
   "outputs": [],
   "source": []
  }
 ],
 "metadata": {
  "kernelspec": {
   "display_name": "Python 3 (ipykernel)",
   "language": "python",
   "name": "python3"
  },
  "language_info": {
   "codemirror_mode": {
    "name": "ipython",
    "version": 3
   },
   "file_extension": ".py",
   "mimetype": "text/x-python",
   "name": "python",
   "nbconvert_exporter": "python",
   "pygments_lexer": "ipython3",
   "version": "3.12.4"
  }
 },
 "nbformat": 4,
 "nbformat_minor": 5
}
