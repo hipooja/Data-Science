{
 "cells": [
  {
   "cell_type": "code",
   "execution_count": 5,
   "id": "6d8f7feb-760f-4264-9b10-d290f4b0b525",
   "metadata": {},
   "outputs": [],
   "source": [
    "import pandas as pd"
   ]
  },
  {
   "cell_type": "code",
   "execution_count": 3,
   "id": "7698adce-0506-41a0-842d-fec139556a43",
   "metadata": {},
   "outputs": [],
   "source": [
    "df = pd.read_csv('cricket.csv')"
   ]
  },
  {
   "cell_type": "code",
   "execution_count": 4,
   "id": "f86e0c73-d750-48a0-95c4-29ff306588d2",
   "metadata": {},
   "outputs": [
    {
     "data": {
      "text/html": [
       "<div>\n",
       "<style scoped>\n",
       "    .dataframe tbody tr th:only-of-type {\n",
       "        vertical-align: middle;\n",
       "    }\n",
       "\n",
       "    .dataframe tbody tr th {\n",
       "        vertical-align: top;\n",
       "    }\n",
       "\n",
       "    .dataframe thead th {\n",
       "        text-align: right;\n",
       "    }\n",
       "</style>\n",
       "<table border=\"1\" class=\"dataframe\">\n",
       "  <thead>\n",
       "    <tr style=\"text-align: right;\">\n",
       "      <th></th>\n",
       "      <th>sr.no</th>\n",
       "      <th>name</th>\n",
       "      <th>matches</th>\n",
       "      <th>runs</th>\n",
       "      <th>catches</th>\n",
       "      <th>wickets</th>\n",
       "      <th>stumpings</th>\n",
       "    </tr>\n",
       "  </thead>\n",
       "  <tbody>\n",
       "    <tr>\n",
       "      <th>0</th>\n",
       "      <td>1</td>\n",
       "      <td>Anil Dalpat</td>\n",
       "      <td>122</td>\n",
       "      <td>6755</td>\n",
       "      <td>56</td>\n",
       "      <td>12</td>\n",
       "      <td>0</td>\n",
       "    </tr>\n",
       "    <tr>\n",
       "      <th>1</th>\n",
       "      <td>2</td>\n",
       "      <td>Rohan Kanhay</td>\n",
       "      <td>144</td>\n",
       "      <td>1256</td>\n",
       "      <td>76</td>\n",
       "      <td>178</td>\n",
       "      <td>0</td>\n",
       "    </tr>\n",
       "    <tr>\n",
       "      <th>2</th>\n",
       "      <td>3</td>\n",
       "      <td>Avdhoot Dighe</td>\n",
       "      <td>265</td>\n",
       "      <td>8954</td>\n",
       "      <td>120</td>\n",
       "      <td>0</td>\n",
       "      <td>0</td>\n",
       "    </tr>\n",
       "    <tr>\n",
       "      <th>3</th>\n",
       "      <td>4</td>\n",
       "      <td>Bahubali</td>\n",
       "      <td>10</td>\n",
       "      <td>756</td>\n",
       "      <td>6</td>\n",
       "      <td>11</td>\n",
       "      <td>3</td>\n",
       "    </tr>\n",
       "    <tr>\n",
       "      <th>4</th>\n",
       "      <td>5</td>\n",
       "      <td>Leeladhar</td>\n",
       "      <td>234</td>\n",
       "      <td>2866</td>\n",
       "      <td>105</td>\n",
       "      <td>376</td>\n",
       "      <td>0</td>\n",
       "    </tr>\n",
       "    <tr>\n",
       "      <th>5</th>\n",
       "      <td>6</td>\n",
       "      <td>Pradyumna</td>\n",
       "      <td>177</td>\n",
       "      <td>5877</td>\n",
       "      <td>47</td>\n",
       "      <td>122</td>\n",
       "      <td>0</td>\n",
       "    </tr>\n",
       "    <tr>\n",
       "      <th>6</th>\n",
       "      <td>7</td>\n",
       "      <td>Dinesh Roy</td>\n",
       "      <td>211</td>\n",
       "      <td>8537</td>\n",
       "      <td>112</td>\n",
       "      <td>16</td>\n",
       "      <td>0</td>\n",
       "    </tr>\n",
       "    <tr>\n",
       "      <th>7</th>\n",
       "      <td>8</td>\n",
       "      <td>Parmeshwar</td>\n",
       "      <td>245</td>\n",
       "      <td>9466</td>\n",
       "      <td>53</td>\n",
       "      <td>0</td>\n",
       "      <td>0</td>\n",
       "    </tr>\n",
       "    <tr>\n",
       "      <th>8</th>\n",
       "      <td>9</td>\n",
       "      <td>Ali Durrani</td>\n",
       "      <td>55</td>\n",
       "      <td>2756</td>\n",
       "      <td>12</td>\n",
       "      <td>26</td>\n",
       "      <td>0</td>\n",
       "    </tr>\n",
       "    <tr>\n",
       "      <th>9</th>\n",
       "      <td>10</td>\n",
       "      <td>Litesh Singh</td>\n",
       "      <td>89</td>\n",
       "      <td>1099</td>\n",
       "      <td>46</td>\n",
       "      <td>49</td>\n",
       "      <td>0</td>\n",
       "    </tr>\n",
       "  </tbody>\n",
       "</table>\n",
       "</div>"
      ],
      "text/plain": [
       "   sr.no           name  matches  runs  catches  wickets  stumpings\n",
       "0      1    Anil Dalpat      122  6755       56       12          0\n",
       "1      2   Rohan Kanhay      144  1256       76      178          0\n",
       "2      3  Avdhoot Dighe      265  8954      120        0          0\n",
       "3      4       Bahubali       10   756        6       11          3\n",
       "4      5      Leeladhar      234  2866      105      376          0\n",
       "5      6      Pradyumna      177  5877       47      122          0\n",
       "6      7     Dinesh Roy      211  8537      112       16          0\n",
       "7      8     Parmeshwar      245  9466       53        0          0\n",
       "8      9    Ali Durrani       55  2756       12       26          0\n",
       "9     10   Litesh Singh       89  1099       46       49          0"
      ]
     },
     "execution_count": 4,
     "metadata": {},
     "output_type": "execute_result"
    }
   ],
   "source": [
    "df"
   ]
  },
  {
   "cell_type": "code",
   "execution_count": 10,
   "id": "cc645a29-4bae-48b0-957e-d9f0701e9bd8",
   "metadata": {},
   "outputs": [
    {
     "data": {
      "text/html": [
       "<div>\n",
       "<style scoped>\n",
       "    .dataframe tbody tr th:only-of-type {\n",
       "        vertical-align: middle;\n",
       "    }\n",
       "\n",
       "    .dataframe tbody tr th {\n",
       "        vertical-align: top;\n",
       "    }\n",
       "\n",
       "    .dataframe thead th {\n",
       "        text-align: right;\n",
       "    }\n",
       "</style>\n",
       "<table border=\"1\" class=\"dataframe\">\n",
       "  <thead>\n",
       "    <tr style=\"text-align: right;\">\n",
       "      <th></th>\n",
       "      <th>name</th>\n",
       "      <th>runs</th>\n",
       "    </tr>\n",
       "  </thead>\n",
       "  <tbody>\n",
       "    <tr>\n",
       "      <th>0</th>\n",
       "      <td>Anil Dalpat</td>\n",
       "      <td>6755</td>\n",
       "    </tr>\n",
       "    <tr>\n",
       "      <th>1</th>\n",
       "      <td>Rohan Kanhay</td>\n",
       "      <td>1256</td>\n",
       "    </tr>\n",
       "    <tr>\n",
       "      <th>2</th>\n",
       "      <td>Avdhoot Dighe</td>\n",
       "      <td>8954</td>\n",
       "    </tr>\n",
       "    <tr>\n",
       "      <th>3</th>\n",
       "      <td>Bahubali</td>\n",
       "      <td>756</td>\n",
       "    </tr>\n",
       "    <tr>\n",
       "      <th>4</th>\n",
       "      <td>Leeladhar</td>\n",
       "      <td>2866</td>\n",
       "    </tr>\n",
       "    <tr>\n",
       "      <th>5</th>\n",
       "      <td>Pradyumna</td>\n",
       "      <td>5877</td>\n",
       "    </tr>\n",
       "    <tr>\n",
       "      <th>6</th>\n",
       "      <td>Dinesh Roy</td>\n",
       "      <td>8537</td>\n",
       "    </tr>\n",
       "    <tr>\n",
       "      <th>7</th>\n",
       "      <td>Parmeshwar</td>\n",
       "      <td>9466</td>\n",
       "    </tr>\n",
       "    <tr>\n",
       "      <th>8</th>\n",
       "      <td>Ali Durrani</td>\n",
       "      <td>2756</td>\n",
       "    </tr>\n",
       "    <tr>\n",
       "      <th>9</th>\n",
       "      <td>Litesh Singh</td>\n",
       "      <td>1099</td>\n",
       "    </tr>\n",
       "  </tbody>\n",
       "</table>\n",
       "</div>"
      ],
      "text/plain": [
       "            name  runs\n",
       "0    Anil Dalpat  6755\n",
       "1   Rohan Kanhay  1256\n",
       "2  Avdhoot Dighe  8954\n",
       "3       Bahubali   756\n",
       "4      Leeladhar  2866\n",
       "5      Pradyumna  5877\n",
       "6     Dinesh Roy  8537\n",
       "7     Parmeshwar  9466\n",
       "8    Ali Durrani  2756\n",
       "9   Litesh Singh  1099"
      ]
     },
     "execution_count": 10,
     "metadata": {},
     "output_type": "execute_result"
    }
   ],
   "source": [
    "df1 = pd.read_csv('cricket.csv')\n",
    "df1.loc[:,['name', 'runs']]"
   ]
  },
  {
   "cell_type": "code",
   "execution_count": 14,
   "id": "f3c3cd34-8b52-49db-855c-1b685b8a03a3",
   "metadata": {},
   "outputs": [
    {
     "name": "stdout",
     "output_type": "stream",
     "text": [
      "Total wickets:  790\n"
     ]
    }
   ],
   "source": [
    "data = pd.read_csv('cricket.csv')\n",
    "total_wickets = data['wickets'].sum()\n",
    "print('Total wickets: ', total_wickets)"
   ]
  },
  {
   "cell_type": "code",
   "execution_count": 16,
   "id": "49f461f2-274b-4c55-a07e-862a9fe1b68b",
   "metadata": {},
   "outputs": [
    {
     "name": "stdout",
     "output_type": "stream",
     "text": [
      "Average catches:  63.3\n"
     ]
    }
   ],
   "source": [
    "average_catches = data['catches'].mean()\n",
    "print('Average catches: ', average_catches)"
   ]
  },
  {
   "cell_type": "code",
   "execution_count": 18,
   "id": "02b2d4dc-f55a-4829-9c3b-887f8e6e6325",
   "metadata": {},
   "outputs": [
    {
     "data": {
      "text/plain": [
       "2    Avdhoot Dighe\n",
       "7       Parmeshwar\n",
       "Name: name, dtype: object"
      ]
     },
     "execution_count": 18,
     "metadata": {},
     "output_type": "execute_result"
    }
   ],
   "source": [
    "df1= pd.read_csv('cricket.csv')\n",
    "data = df1.loc[df1[\"wickets\"]==0, \"name\"]\n",
    "data.head()"
   ]
  },
  {
   "cell_type": "code",
   "execution_count": 26,
   "id": "6451cc69-f810-49b2-ab8d-2d3ba864b89b",
   "metadata": {},
   "outputs": [
    {
     "data": {
      "text/plain": [
       "np.int64(264)"
      ]
     },
     "execution_count": 26,
     "metadata": {},
     "output_type": "execute_result"
    }
   ],
   "source": [
    "data = (df1[\"wickets\"].max()) & (df1[\"matches\"].max())\n",
    "data"
   ]
  },
  {
   "cell_type": "code",
   "execution_count": 28,
   "id": "ed65b71b-87fd-4c11-b563-0cb8ac85918e",
   "metadata": {},
   "outputs": [
    {
     "name": "stdout",
     "output_type": "stream",
     "text": [
      "Average wickets:  79.0\n"
     ]
    }
   ],
   "source": [
    "average_wickets = df1['wickets'].mean()\n",
    "print('Average wickets: ', average_wickets)"
   ]
  },
  {
   "cell_type": "code",
   "execution_count": null,
   "id": "c143bcc2-3252-4c62-a893-37a3cf5d7a3a",
   "metadata": {},
   "outputs": [],
   "source": []
  }
 ],
 "metadata": {
  "kernelspec": {
   "display_name": "Python 3 (ipykernel)",
   "language": "python",
   "name": "python3"
  },
  "language_info": {
   "codemirror_mode": {
    "name": "ipython",
    "version": 3
   },
   "file_extension": ".py",
   "mimetype": "text/x-python",
   "name": "python",
   "nbconvert_exporter": "python",
   "pygments_lexer": "ipython3",
   "version": "3.9.13"
  }
 },
 "nbformat": 4,
 "nbformat_minor": 5
}
